{
 "cells": [
  {
   "cell_type": "markdown",
   "metadata": {},
   "source": [
    "<h1> Age of Stellar Clusters Project </h1>\n",
    "<p1> This is the Jupyer Notebook write-up for your semester-long project.  </p1>"
   ]
  },
  {
   "cell_type": "markdown",
   "metadata": {},
   "source": [
    "<h3 align='center'>Here are the Tables of clusters for your reference.</h3>\n",
    "<p1 align='center'>Note: Compare the converted RA and DEC values here to your own to verify everything</p1>"
   ]
  },
  {
   "cell_type": "code",
   "execution_count": 171,
   "metadata": {},
   "outputs": [
    {
     "data": {
      "text/html": [
       "<style  type=\"text/css\" >\n",
       "    #T_feb2bb5e_c7b6_11e9_8dfa_3af9d3a6773a tr:hover {\n",
       "          background-color: #ffff99;\n",
       "    }    #T_feb2bb5e_c7b6_11e9_8dfa_3af9d3a6773a th {\n",
       "          font-size: 130%;\n",
       "          text-align: center;\n",
       "          text-align: center;\n",
       "    }    #T_feb2bb5e_c7b6_11e9_8dfa_3af9d3a6773a caption {\n",
       "          caption-side: top;\n",
       "          font-size: 150%;\n",
       "    }</style>  \n",
       "<table id=\"T_feb2bb5e_c7b6_11e9_8dfa_3af9d3a6773a\" ><caption>Open Clusters.</caption> \n",
       "<thead>    <tr> \n",
       "        <th class=\"blank level0\" ></th> \n",
       "        <th class=\"col_heading level0 col0\" >Name</th> \n",
       "        <th class=\"col_heading level0 col1\" >RA (J2000)</th> \n",
       "        <th class=\"col_heading level0 col2\" >DEC (J2000)</th> \n",
       "        <th class=\"col_heading level0 col3\" >RA (DEG)</th> \n",
       "        <th class=\"col_heading level0 col4\" >DEC (DEG)</th> \n",
       "        <th class=\"col_heading level0 col5\" >Distance (pc)</th> \n",
       "    </tr></thead> \n",
       "<tbody>    <tr> \n",
       "        <th id=\"T_feb2bb5e_c7b6_11e9_8dfa_3af9d3a6773a\" class=\"row_heading level0 row0\" >0</th> \n",
       "        <td id=\"T_feb2bb5e_c7b6_11e9_8dfa_3af9d3a6773arow0_col0\" class=\"data row0 col0\" >NGC 3293</td> \n",
       "        <td id=\"T_feb2bb5e_c7b6_11e9_8dfa_3af9d3a6773arow0_col1\" class=\"data row0 col1\" >10 35 49</td> \n",
       "        <td id=\"T_feb2bb5e_c7b6_11e9_8dfa_3af9d3a6773arow0_col2\" class=\"data row0 col2\" >-58 13 48</td> \n",
       "        <td id=\"T_feb2bb5e_c7b6_11e9_8dfa_3af9d3a6773arow0_col3\" class=\"data row0 col3\" >158.954</td> \n",
       "        <td id=\"T_feb2bb5e_c7b6_11e9_8dfa_3af9d3a6773arow0_col4\" class=\"data row0 col4\" >-58.23</td> \n",
       "        <td id=\"T_feb2bb5e_c7b6_11e9_8dfa_3af9d3a6773arow0_col5\" class=\"data row0 col5\" >2750</td> \n",
       "    </tr>    <tr> \n",
       "        <th id=\"T_feb2bb5e_c7b6_11e9_8dfa_3af9d3a6773a\" class=\"row_heading level0 row1\" >1</th> \n",
       "        <td id=\"T_feb2bb5e_c7b6_11e9_8dfa_3af9d3a6773arow1_col0\" class=\"data row1 col0\" >M 11</td> \n",
       "        <td id=\"T_feb2bb5e_c7b6_11e9_8dfa_3af9d3a6773arow1_col1\" class=\"data row1 col1\" >18 51 05</td> \n",
       "        <td id=\"T_feb2bb5e_c7b6_11e9_8dfa_3af9d3a6773arow1_col2\" class=\"data row1 col2\" >-06 16 12</td> \n",
       "        <td id=\"T_feb2bb5e_c7b6_11e9_8dfa_3af9d3a6773arow1_col3\" class=\"data row1 col3\" >282.771</td> \n",
       "        <td id=\"T_feb2bb5e_c7b6_11e9_8dfa_3af9d3a6773arow1_col4\" class=\"data row1 col4\" >-6.27</td> \n",
       "        <td id=\"T_feb2bb5e_c7b6_11e9_8dfa_3af9d3a6773arow1_col5\" class=\"data row1 col5\" >1900</td> \n",
       "    </tr>    <tr> \n",
       "        <th id=\"T_feb2bb5e_c7b6_11e9_8dfa_3af9d3a6773a\" class=\"row_heading level0 row2\" >2</th> \n",
       "        <td id=\"T_feb2bb5e_c7b6_11e9_8dfa_3af9d3a6773arow2_col0\" class=\"data row2 col0\" >M 26</td> \n",
       "        <td id=\"T_feb2bb5e_c7b6_11e9_8dfa_3af9d3a6773arow2_col1\" class=\"data row2 col1\" >18 45 18</td> \n",
       "        <td id=\"T_feb2bb5e_c7b6_11e9_8dfa_3af9d3a6773arow2_col2\" class=\"data row2 col2\" >-09 23 00</td> \n",
       "        <td id=\"T_feb2bb5e_c7b6_11e9_8dfa_3af9d3a6773arow2_col3\" class=\"data row2 col3\" >281.325</td> \n",
       "        <td id=\"T_feb2bb5e_c7b6_11e9_8dfa_3af9d3a6773arow2_col4\" class=\"data row2 col4\" >-9.38333</td> \n",
       "        <td id=\"T_feb2bb5e_c7b6_11e9_8dfa_3af9d3a6773arow2_col5\" class=\"data row2 col5\" >1533</td> \n",
       "    </tr>    <tr> \n",
       "        <th id=\"T_feb2bb5e_c7b6_11e9_8dfa_3af9d3a6773a\" class=\"row_heading level0 row3\" >3</th> \n",
       "        <td id=\"T_feb2bb5e_c7b6_11e9_8dfa_3af9d3a6773arow3_col0\" class=\"data row3 col0\" >M 35</td> \n",
       "        <td id=\"T_feb2bb5e_c7b6_11e9_8dfa_3af9d3a6773arow3_col1\" class=\"data row3 col1\" >06 08 54</td> \n",
       "        <td id=\"T_feb2bb5e_c7b6_11e9_8dfa_3af9d3a6773arow3_col2\" class=\"data row3 col2\" >+24 20 00</td> \n",
       "        <td id=\"T_feb2bb5e_c7b6_11e9_8dfa_3af9d3a6773arow3_col3\" class=\"data row3 col3\" >92.225</td> \n",
       "        <td id=\"T_feb2bb5e_c7b6_11e9_8dfa_3af9d3a6773arow3_col4\" class=\"data row3 col4\" >24.3333</td> \n",
       "        <td id=\"T_feb2bb5e_c7b6_11e9_8dfa_3af9d3a6773arow3_col5\" class=\"data row3 col5\" >858</td> \n",
       "    </tr>    <tr> \n",
       "        <th id=\"T_feb2bb5e_c7b6_11e9_8dfa_3af9d3a6773a\" class=\"row_heading level0 row4\" >4</th> \n",
       "        <td id=\"T_feb2bb5e_c7b6_11e9_8dfa_3af9d3a6773arow4_col0\" class=\"data row4 col0\" >M 44</td> \n",
       "        <td id=\"T_feb2bb5e_c7b6_11e9_8dfa_3af9d3a6773arow4_col1\" class=\"data row4 col1\" >08 40 24</td> \n",
       "        <td id=\"T_feb2bb5e_c7b6_11e9_8dfa_3af9d3a6773arow4_col2\" class=\"data row4 col2\" >+19 40 00</td> \n",
       "        <td id=\"T_feb2bb5e_c7b6_11e9_8dfa_3af9d3a6773arow4_col3\" class=\"data row4 col3\" >130.1</td> \n",
       "        <td id=\"T_feb2bb5e_c7b6_11e9_8dfa_3af9d3a6773arow4_col4\" class=\"data row4 col4\" >19.6667</td> \n",
       "        <td id=\"T_feb2bb5e_c7b6_11e9_8dfa_3af9d3a6773arow4_col5\" class=\"data row4 col5\" >177</td> \n",
       "    </tr>    <tr> \n",
       "        <th id=\"T_feb2bb5e_c7b6_11e9_8dfa_3af9d3a6773a\" class=\"row_heading level0 row5\" >5</th> \n",
       "        <td id=\"T_feb2bb5e_c7b6_11e9_8dfa_3af9d3a6773arow5_col0\" class=\"data row5 col0\" >M 45</td> \n",
       "        <td id=\"T_feb2bb5e_c7b6_11e9_8dfa_3af9d3a6773arow5_col1\" class=\"data row5 col1\" >03 47 00</td> \n",
       "        <td id=\"T_feb2bb5e_c7b6_11e9_8dfa_3af9d3a6773arow5_col2\" class=\"data row5 col2\" >+24 07 00</td> \n",
       "        <td id=\"T_feb2bb5e_c7b6_11e9_8dfa_3af9d3a6773arow5_col3\" class=\"data row5 col3\" >56.75</td> \n",
       "        <td id=\"T_feb2bb5e_c7b6_11e9_8dfa_3af9d3a6773arow5_col4\" class=\"data row5 col4\" >24.1167</td> \n",
       "        <td id=\"T_feb2bb5e_c7b6_11e9_8dfa_3af9d3a6773arow5_col5\" class=\"data row5 col5\" >135</td> \n",
       "    </tr>    <tr> \n",
       "        <th id=\"T_feb2bb5e_c7b6_11e9_8dfa_3af9d3a6773a\" class=\"row_heading level0 row6\" >6</th> \n",
       "        <td id=\"T_feb2bb5e_c7b6_11e9_8dfa_3af9d3a6773arow6_col0\" class=\"data row6 col0\" >M 46</td> \n",
       "        <td id=\"T_feb2bb5e_c7b6_11e9_8dfa_3af9d3a6773arow6_col1\" class=\"data row6 col1\" >07 41 46</td> \n",
       "        <td id=\"T_feb2bb5e_c7b6_11e9_8dfa_3af9d3a6773arow6_col2\" class=\"data row6 col2\" >-14 48 36</td> \n",
       "        <td id=\"T_feb2bb5e_c7b6_11e9_8dfa_3af9d3a6773arow6_col3\" class=\"data row6 col3\" >115.442</td> \n",
       "        <td id=\"T_feb2bb5e_c7b6_11e9_8dfa_3af9d3a6773arow6_col4\" class=\"data row6 col4\" >-14.81</td> \n",
       "        <td id=\"T_feb2bb5e_c7b6_11e9_8dfa_3af9d3a6773arow6_col5\" class=\"data row6 col5\" >1656</td> \n",
       "    </tr></tbody> \n",
       "</table> "
      ],
      "text/plain": [
       "<pandas.io.formats.style.Styler at 0x117bdb450>"
      ]
     },
     "metadata": {},
     "output_type": "display_data"
    },
    {
     "data": {
      "text/html": [
       "<style  type=\"text/css\" >\n",
       "    #T_feb38721_c7b6_11e9_8f99_3af9d3a6773a tr:hover {\n",
       "          background-color: #ffff99;\n",
       "    }    #T_feb38721_c7b6_11e9_8f99_3af9d3a6773a th {\n",
       "          font-size: 130%;\n",
       "          text-align: center;\n",
       "          text-align: center;\n",
       "    }    #T_feb38721_c7b6_11e9_8f99_3af9d3a6773a caption {\n",
       "          caption-side: top;\n",
       "          font-size: 150%;\n",
       "    }</style>  \n",
       "<table id=\"T_feb38721_c7b6_11e9_8f99_3af9d3a6773a\" ><caption>Globular Clusters.</caption> \n",
       "<thead>    <tr> \n",
       "        <th class=\"blank level0\" ></th> \n",
       "        <th class=\"col_heading level0 col0\" >Name</th> \n",
       "        <th class=\"col_heading level0 col1\" >RA (J2000)</th> \n",
       "        <th class=\"col_heading level0 col2\" >DEC (J2000)</th> \n",
       "        <th class=\"col_heading level0 col3\" >RA (DEG)</th> \n",
       "        <th class=\"col_heading level0 col4\" >DEC (DEG)</th> \n",
       "        <th class=\"col_heading level0 col5\" >Distance (pc)</th> \n",
       "    </tr></thead> \n",
       "<tbody>    <tr> \n",
       "        <th id=\"T_feb38721_c7b6_11e9_8f99_3af9d3a6773a\" class=\"row_heading level0 row0\" >0</th> \n",
       "        <td id=\"T_feb38721_c7b6_11e9_8f99_3af9d3a6773arow0_col0\" class=\"data row0 col0\" >47 Tuc</td> \n",
       "        <td id=\"T_feb38721_c7b6_11e9_8f99_3af9d3a6773arow0_col1\" class=\"data row0 col1\" >00 24 05.4</td> \n",
       "        <td id=\"T_feb38721_c7b6_11e9_8f99_3af9d3a6773arow0_col2\" class=\"data row0 col2\" >-72 04 53.2</td> \n",
       "        <td id=\"T_feb38721_c7b6_11e9_8f99_3af9d3a6773arow0_col3\" class=\"data row0 col3\" >6.0225</td> \n",
       "        <td id=\"T_feb38721_c7b6_11e9_8f99_3af9d3a6773arow0_col4\" class=\"data row0 col4\" >-72.0814</td> \n",
       "        <td id=\"T_feb38721_c7b6_11e9_8f99_3af9d3a6773arow0_col5\" class=\"data row0 col5\" >4001</td> \n",
       "    </tr>    <tr> \n",
       "        <th id=\"T_feb38721_c7b6_11e9_8f99_3af9d3a6773a\" class=\"row_heading level0 row1\" >1</th> \n",
       "        <td id=\"T_feb38721_c7b6_11e9_8f99_3af9d3a6773arow1_col0\" class=\"data row1 col0\" >M 2</td> \n",
       "        <td id=\"T_feb38721_c7b6_11e9_8f99_3af9d3a6773arow1_col1\" class=\"data row1 col1\" >21 33 27.0</td> \n",
       "        <td id=\"T_feb38721_c7b6_11e9_8f99_3af9d3a6773arow1_col2\" class=\"data row1 col2\" >-00 49 23.7</td> \n",
       "        <td id=\"T_feb38721_c7b6_11e9_8f99_3af9d3a6773arow1_col3\" class=\"data row1 col3\" >323.363</td> \n",
       "        <td id=\"T_feb38721_c7b6_11e9_8f99_3af9d3a6773arow1_col4\" class=\"data row1 col4\" >-0.82325</td> \n",
       "        <td id=\"T_feb38721_c7b6_11e9_8f99_3af9d3a6773arow1_col5\" class=\"data row1 col5\" >16863</td> \n",
       "    </tr>    <tr> \n",
       "        <th id=\"T_feb38721_c7b6_11e9_8f99_3af9d3a6773a\" class=\"row_heading level0 row2\" >2</th> \n",
       "        <td id=\"T_feb38721_c7b6_11e9_8f99_3af9d3a6773arow2_col0\" class=\"data row2 col0\" >M 3</td> \n",
       "        <td id=\"T_feb38721_c7b6_11e9_8f99_3af9d3a6773arow2_col1\" class=\"data row2 col1\" >13 42 11.6</td> \n",
       "        <td id=\"T_feb38721_c7b6_11e9_8f99_3af9d3a6773arow2_col2\" class=\"data row2 col2\" >+28 22 38.2</td> \n",
       "        <td id=\"T_feb38721_c7b6_11e9_8f99_3af9d3a6773arow2_col3\" class=\"data row2 col3\" >205.548</td> \n",
       "        <td id=\"T_feb38721_c7b6_11e9_8f99_3af9d3a6773arow2_col4\" class=\"data row2 col4\" >28.3773</td> \n",
       "        <td id=\"T_feb38721_c7b6_11e9_8f99_3af9d3a6773arow2_col5\" class=\"data row2 col5\" >10400</td> \n",
       "    </tr>    <tr> \n",
       "        <th id=\"T_feb38721_c7b6_11e9_8f99_3af9d3a6773a\" class=\"row_heading level0 row3\" >3</th> \n",
       "        <td id=\"T_feb38721_c7b6_11e9_8f99_3af9d3a6773arow3_col0\" class=\"data row3 col0\" >M 5</td> \n",
       "        <td id=\"T_feb38721_c7b6_11e9_8f99_3af9d3a6773arow3_col1\" class=\"data row3 col1\" >15 18 33.2</td> \n",
       "        <td id=\"T_feb38721_c7b6_11e9_8f99_3af9d3a6773arow3_col2\" class=\"data row3 col2\" >+02 04 51.7</td> \n",
       "        <td id=\"T_feb38721_c7b6_11e9_8f99_3af9d3a6773arow3_col3\" class=\"data row3 col3\" >229.638</td> \n",
       "        <td id=\"T_feb38721_c7b6_11e9_8f99_3af9d3a6773arow3_col4\" class=\"data row3 col4\" >2.08103</td> \n",
       "        <td id=\"T_feb38721_c7b6_11e9_8f99_3af9d3a6773arow3_col5\" class=\"data row3 col5\" >7499</td> \n",
       "    </tr>    <tr> \n",
       "        <th id=\"T_feb38721_c7b6_11e9_8f99_3af9d3a6773a\" class=\"row_heading level0 row4\" >4</th> \n",
       "        <td id=\"T_feb38721_c7b6_11e9_8f99_3af9d3a6773arow4_col0\" class=\"data row4 col0\" >M 13</td> \n",
       "        <td id=\"T_feb38721_c7b6_11e9_8f99_3af9d3a6773arow4_col1\" class=\"data row4 col1\" >16 41 41.6</td> \n",
       "        <td id=\"T_feb38721_c7b6_11e9_8f99_3af9d3a6773arow4_col2\" class=\"data row4 col2\" >+36 27 40.8</td> \n",
       "        <td id=\"T_feb38721_c7b6_11e9_8f99_3af9d3a6773arow4_col3\" class=\"data row4 col3\" >250.423</td> \n",
       "        <td id=\"T_feb38721_c7b6_11e9_8f99_3af9d3a6773arow4_col4\" class=\"data row4 col4\" >36.4613</td> \n",
       "        <td id=\"T_feb38721_c7b6_11e9_8f99_3af9d3a6773arow4_col5\" class=\"data row4 col5\" >6800</td> \n",
       "    </tr>    <tr> \n",
       "        <th id=\"T_feb38721_c7b6_11e9_8f99_3af9d3a6773a\" class=\"row_heading level0 row5\" >5</th> \n",
       "        <td id=\"T_feb38721_c7b6_11e9_8f99_3af9d3a6773arow5_col0\" class=\"data row5 col0\" >M 14</td> \n",
       "        <td id=\"T_feb38721_c7b6_11e9_8f99_3af9d3a6773arow5_col1\" class=\"data row5 col1\" >17 37 36.2</td> \n",
       "        <td id=\"T_feb38721_c7b6_11e9_8f99_3af9d3a6773arow5_col2\" class=\"data row5 col2\" >-03 14 45.3</td> \n",
       "        <td id=\"T_feb38721_c7b6_11e9_8f99_3af9d3a6773arow5_col3\" class=\"data row5 col3\" >264.401</td> \n",
       "        <td id=\"T_feb38721_c7b6_11e9_8f99_3af9d3a6773arow5_col4\" class=\"data row5 col4\" >-3.24592</td> \n",
       "        <td id=\"T_feb38721_c7b6_11e9_8f99_3af9d3a6773arow5_col5\" class=\"data row5 col5\" >9290</td> \n",
       "    </tr>    <tr> \n",
       "        <th id=\"T_feb38721_c7b6_11e9_8f99_3af9d3a6773a\" class=\"row_heading level0 row6\" >6</th> \n",
       "        <td id=\"T_feb38721_c7b6_11e9_8f99_3af9d3a6773arow6_col0\" class=\"data row6 col0\" >M 30</td> \n",
       "        <td id=\"T_feb38721_c7b6_11e9_8f99_3af9d3a6773arow6_col1\" class=\"data row6 col1\" >21 40 22.1</td> \n",
       "        <td id=\"T_feb38721_c7b6_11e9_8f99_3af9d3a6773arow6_col2\" class=\"data row6 col2\" >-23 10 47.5</td> \n",
       "        <td id=\"T_feb38721_c7b6_11e9_8f99_3af9d3a6773arow6_col3\" class=\"data row6 col3\" >325.092</td> \n",
       "        <td id=\"T_feb38721_c7b6_11e9_8f99_3af9d3a6773arow6_col4\" class=\"data row6 col4\" >-23.1799</td> \n",
       "        <td id=\"T_feb38721_c7b6_11e9_8f99_3af9d3a6773arow6_col5\" class=\"data row6 col5\" >8300</td> \n",
       "    </tr></tbody> \n",
       "</table> "
      ],
      "text/plain": [
       "<pandas.io.formats.style.Styler at 0x11867d810>"
      ]
     },
     "metadata": {},
     "output_type": "display_data"
    },
    {
     "data": {
      "text/html": [
       "\n",
       "        <script>\n",
       "            function code_toggle_2699963783341166122() {\n",
       "                $('div.cell.code_cell.rendered.selected').find('div.input').toggle();\n",
       "            }\n",
       "\n",
       "            \n",
       "        </script>\n",
       "\n",
       "        <a href=\"javascript:code_toggle_2699963783341166122()\">Toggle show/hide</a>\n",
       "    "
      ],
      "text/plain": [
       "<IPython.core.display.HTML object>"
      ]
     },
     "execution_count": 171,
     "metadata": {},
     "output_type": "execute_result"
    }
   ],
   "source": [
    "from __future__ import division\n",
    "import hide_toggle\n",
    "import pandas as pd\n",
    "import cluster as cl\n",
    "import numpy as np\n",
    "from IPython.display import HTML\n",
    "from IPython.display import display\n",
    "from IPython.display import display_pretty\n",
    "from ipywidgets import interact, interactive, fixed, interact_manual\n",
    "import ipywidgets as widgets\n",
    "import matplotlib.pyplot as plt\n",
    "import matplotlib\n",
    "\n",
    "display(cl.open_cluster_out)\n",
    "\n",
    "display(cl.globular_cluster_out)\n",
    "hide_toggle.hide_toggle()\n"
   ]
  },
  {
   "cell_type": "markdown",
   "metadata": {},
   "source": [
    "<h2> Cluster Plotting </h2>\n",
    "<p1>Your first task is to develop plots for the clusters of your choice. Remember, you need to choose <b>(1) Open Cluster</b> and also <b>(1) Globular Cluster</b>! Enter the names of your clusters of choice below: (<i><u>Remember to re-run the code block below the pull-down selection boxes if you change your selection</u></i>)"
   ]
  },
  {
   "cell_type": "code",
   "execution_count": 128,
   "metadata": {},
   "outputs": [
    {
     "data": {
      "application/vnd.jupyter.widget-view+json": {
       "model_id": "046adad6549340c09bd4a54384d019df"
      }
     },
     "metadata": {},
     "output_type": "display_data"
    },
    {
     "data": {
      "application/vnd.jupyter.widget-view+json": {
       "model_id": "5a5d9f3bd37d4aa6819ad64055e085e9"
      }
     },
     "metadata": {},
     "output_type": "display_data"
    },
    {
     "data": {
      "text/html": [
       "\n",
       "        <script>\n",
       "            function code_toggle_17008914549681245634() {\n",
       "                $('div.cell.code_cell.rendered.selected').find('div.input').toggle();\n",
       "            }\n",
       "\n",
       "            \n",
       "        </script>\n",
       "\n",
       "        <a href=\"javascript:code_toggle_17008914549681245634()\">Toggle show/hide</a>\n",
       "    "
      ],
      "text/plain": [
       "<IPython.core.display.HTML object>"
      ]
     },
     "execution_count": 128,
     "metadata": {},
     "output_type": "execute_result"
    }
   ],
   "source": [
    "def open_clus(Open_Cluster):\n",
    "    return Open_Cluster\n",
    "def glob_clus(Globular_Cluster):\n",
    "    return Globular_Cluster\n",
    "pl_open = interactive(open_clus, Open_Cluster = {cl.open_clusters[i].name:cl.open_clusters[i] for i in range(len(cl.open_clusters))})\n",
    "pl_glob = interactive(glob_clus, Globular_Cluster = {cl.globular_clusters[i].name:cl.globular_clusters[i] for i in range(len(cl.globular_clusters))})\n",
    "display(pl_open)\n",
    "display(pl_glob)\n",
    "hide_toggle.hide_toggle()"
   ]
  },
  {
   "cell_type": "markdown",
   "metadata": {},
   "source": [
    "<h3>Matching</h3>\n",
    "<p1>Now that you have selected the clusters you are going to use for your project, you need to find all of the stars that are actually in the cluster. To do this, you will first define a distance threshold from the cluster center, in which all stars are considered to be a part of the cluster. Dr. Kirkpatrick recommends that you start with 15' and adjust from there.</p1>"
   ]
  },
  {
   "cell_type": "code",
   "execution_count": 177,
   "metadata": {},
   "outputs": [
    {
     "data": {
      "application/vnd.jupyter.widget-view+json": {
       "model_id": "e8bc501ee27d4f20ab7e2b34e804d71e"
      }
     },
     "metadata": {},
     "output_type": "display_data"
    },
    {
     "data": {
      "text/html": [
       "\n",
       "        <script>\n",
       "            function code_toggle_1143880007318534991() {\n",
       "                $('div.cell.code_cell.rendered.selected').find('div.input').toggle();\n",
       "            }\n",
       "\n",
       "            \n",
       "        </script>\n",
       "\n",
       "        <a href=\"javascript:code_toggle_1143880007318534991()\">Toggle show/hide</a>\n",
       "    "
      ],
      "text/plain": [
       "<IPython.core.display.HTML object>"
      ]
     },
     "execution_count": 177,
     "metadata": {},
     "output_type": "execute_result"
    }
   ],
   "source": [
    "def dist_thresh(Dist_Threshold_Open=15.0, Dist_Threshold_Globular=15.0):\n",
    "    return Dist_Threshold_Open, Dist_Threshold_Globular\n",
    "pl_dist_thresh = interactive(dist_thresh, Dist_Threshold_Open = (0.0, 15.0), Dist_Threshold_Globular = (0.0,15.0))\n",
    "display(pl_dist_thresh)\n",
    "hide_toggle.hide_toggle()"
   ]
  },
  {
   "cell_type": "markdown",
   "metadata": {},
   "source": [
    "<p1>Now we will load in the .csv file with all of the stars, and will print out a few lines from catalog so you can get a picture of how the data is formatted.</p1>"
   ]
  },
  {
   "cell_type": "code",
   "execution_count": 56,
   "metadata": {
    "scrolled": true
   },
   "outputs": [
    {
     "data": {
      "text/html": [
       "<div>\n",
       "<style>\n",
       "    .dataframe thead tr:only-child th {\n",
       "        text-align: right;\n",
       "    }\n",
       "\n",
       "    .dataframe thead th {\n",
       "        text-align: left;\n",
       "    }\n",
       "\n",
       "    .dataframe tbody tr th {\n",
       "        vertical-align: top;\n",
       "    }\n",
       "</style>\n",
       "<table border=\"1\" class=\"dataframe\">\n",
       "  <thead>\n",
       "    <tr style=\"text-align: right;\">\n",
       "      <th></th>\n",
       "      <th>source_id</th>\n",
       "      <th>ra</th>\n",
       "      <th>dec</th>\n",
       "      <th>phot_g_mean_mag</th>\n",
       "      <th>phot_bp_mean_mag</th>\n",
       "      <th>phot_rp_mean_mag</th>\n",
       "    </tr>\n",
       "  </thead>\n",
       "  <tbody>\n",
       "    <tr>\n",
       "      <th>0</th>\n",
       "      <td>4252502065373003776</td>\n",
       "      <td>282.745453</td>\n",
       "      <td>-6.326164</td>\n",
       "      <td>17.559374</td>\n",
       "      <td>17.854786</td>\n",
       "      <td>16.482748</td>\n",
       "    </tr>\n",
       "    <tr>\n",
       "      <th>1</th>\n",
       "      <td>4252499552740270336</td>\n",
       "      <td>282.795034</td>\n",
       "      <td>-6.320462</td>\n",
       "      <td>18.747301</td>\n",
       "      <td>18.879366</td>\n",
       "      <td>17.172401</td>\n",
       "    </tr>\n",
       "    <tr>\n",
       "      <th>2</th>\n",
       "      <td>4252499076075131264</td>\n",
       "      <td>282.792084</td>\n",
       "      <td>-6.349008</td>\n",
       "      <td>20.261185</td>\n",
       "      <td>NaN</td>\n",
       "      <td>NaN</td>\n",
       "    </tr>\n",
       "    <tr>\n",
       "      <th>3</th>\n",
       "      <td>4252502168452220416</td>\n",
       "      <td>282.756594</td>\n",
       "      <td>-6.316115</td>\n",
       "      <td>19.334372</td>\n",
       "      <td>18.537830</td>\n",
       "      <td>18.081583</td>\n",
       "    </tr>\n",
       "    <tr>\n",
       "      <th>4</th>\n",
       "      <td>4252502060994791808</td>\n",
       "      <td>282.739702</td>\n",
       "      <td>-6.321722</td>\n",
       "      <td>14.084452</td>\n",
       "      <td>14.496042</td>\n",
       "      <td>13.489761</td>\n",
       "    </tr>\n",
       "  </tbody>\n",
       "</table>\n",
       "</div>"
      ],
      "text/plain": [
       "             source_id          ra       dec  phot_g_mean_mag  \\\n",
       "0  4252502065373003776  282.745453 -6.326164        17.559374   \n",
       "1  4252499552740270336  282.795034 -6.320462        18.747301   \n",
       "2  4252499076075131264  282.792084 -6.349008        20.261185   \n",
       "3  4252502168452220416  282.756594 -6.316115        19.334372   \n",
       "4  4252502060994791808  282.739702 -6.321722        14.084452   \n",
       "\n",
       "   phot_bp_mean_mag  phot_rp_mean_mag  \n",
       "0         17.854786         16.482748  \n",
       "1         18.879366         17.172401  \n",
       "2               NaN               NaN  \n",
       "3         18.537830         18.081583  \n",
       "4         14.496042         13.489761  "
      ]
     },
     "metadata": {},
     "output_type": "display_data"
    },
    {
     "data": {
      "text/html": [
       "\n",
       "        <script>\n",
       "            function code_toggle_6681104490017379899() {\n",
       "                $('div.cell.code_cell.rendered.selected').find('div.input').toggle();\n",
       "            }\n",
       "\n",
       "            \n",
       "        </script>\n",
       "\n",
       "        <a href=\"javascript:code_toggle_6681104490017379899()\">Toggle show/hide</a>\n",
       "    "
      ],
      "text/plain": [
       "<IPython.core.display.HTML object>"
      ]
     },
     "execution_count": 56,
     "metadata": {},
     "output_type": "execute_result"
    }
   ],
   "source": [
    "#This table contains all of the star data\n",
    "all_data = pd.read_csv('cluster_cat.csv',delimiter=',')\n",
    "display(all_data[0:5]) #Display the first 5 stars\n",
    "hide_toggle.hide_toggle()"
   ]
  },
  {
   "cell_type": "markdown",
   "metadata": {},
   "source": [
    "<h3>Determining Distance from Cluster</h3>\n",
    "<p1>Your next task is to write a function to calculate the distance from a star to a cluster. The Function below has already been laid out for you. You should need the star's RA and DEC values (star_RA and star_DEC, respectively) along with the cluster RA and DEC values (clus_RA and clus_DEC, respectively) to write this function. The function should <u> return the distance to the cluster</u>. Use what you learned in class about coordinate systems to write this out, and remember to <b>keep track of your units! </b>"
   ]
  },
  {
   "cell_type": "code",
   "execution_count": 156,
   "metadata": {
    "collapsed": true
   },
   "outputs": [],
   "source": [
    "def distance_from_cluster(star_RA, star_DEC, clus_RA, clus_DEC):\n",
    "    avg_DEC = (clus_DEC + star_DEC)/2\n",
    "    delta_RA = (clus_RA - star_RA)*np.cos(avg_DEC*np.pi/180)\n",
    "    delta_DEC = clus_DEC-star_DEC\n",
    "    return np.sqrt( delta_RA**2 + delta_DEC**2)*60"
   ]
  },
  {
   "cell_type": "code",
   "execution_count": 158,
   "metadata": {
    "scrolled": false
   },
   "outputs": [
    {
     "data": {
      "text/html": [
       "\n",
       "        <script>\n",
       "            function code_toggle_967991246497952481() {\n",
       "                $('div.cell.code_cell.rendered.selected').find('div.input').toggle();\n",
       "            }\n",
       "\n",
       "            \n",
       "        </script>\n",
       "\n",
       "        <a href=\"javascript:code_toggle_967991246497952481()\">Toggle show/hide</a>\n",
       "    "
      ],
      "text/plain": [
       "<IPython.core.display.HTML object>"
      ]
     },
     "execution_count": 158,
     "metadata": {},
     "output_type": "execute_result"
    }
   ],
   "source": [
    "###\n",
    "## These lines read in your entries into the cluster names and distance threshold boxes\n",
    "###\n",
    "Open_cluster = pl_open.result\n",
    "Globular_cluster = pl_glob.result\n",
    "distance_threshold = pl_dist_thresh.result\n",
    "dist_thresh_deg = float(distance_threshold)/60\n",
    "###\n",
    "\n",
    "###\n",
    "## Let us define the cluster locations to easy to remember variables. Note that these are in degrees\n",
    "###\n",
    "open_cluster_RA , open_cluster_DEC = [float(val) for val in Open_cluster.get_position_degrees()]\n",
    "\n",
    "globular_cluster_RA, globular_cluster_DEC = [float(val) for val in Globular_cluster.get_position_degrees()]\n",
    "###\n",
    "\n",
    "\n",
    "stars_inOpen = []\n",
    "stars_inGlobular = []\n",
    "\n",
    "N_stars = len(all_data)\n",
    "for star_index in range(N_stars):\n",
    "    \n",
    "    #Let us save this star's position to some variables.\n",
    "    star_RA = all_data.at[star_index, 'ra']\n",
    "    star_DEC = all_data.at[star_index, 'dec']\n",
    "    \n",
    "    dist_from_open_cluster = distance_from_cluster(star_RA, star_DEC, open_cluster_RA, open_cluster_DEC)\n",
    "    \n",
    "    dist_from_globular_cluster = distance_from_cluster(star_RA, star_DEC, globular_cluster_RA, globular_cluster_DEC)\n",
    "    \n",
    "    ###\n",
    "    \n",
    "    #Now we check to see if this star is in either cluster\n",
    "    if dist_from_open_cluster <= dist_thresh_deg:\n",
    "        stars_inOpen.append(star_index)\n",
    "    if dist_from_globular_cluster <= dist_thresh_deg:\n",
    "        stars_inGlobular.append(star_index)\n",
    "    \n",
    "hide_toggle.hide_toggle()"
   ]
  },
  {
   "cell_type": "markdown",
   "metadata": {
    "collapsed": true
   },
   "source": [
    "<h2>Cluster Plots</h2>\n",
    "<p1>Now we know whether each star is in either cluster, so we can go ahead and make plots of the stars in each cluster within the threshold distance you set.</p1>\n"
   ]
  },
  {
   "cell_type": "markdown",
   "metadata": {},
   "source": [
    " <h3>Open Cluster Plot</h3>"
   ]
  },
  {
   "cell_type": "code",
   "execution_count": 152,
   "metadata": {},
   "outputs": [
    {
     "data": {
      "application/vnd.jupyter.widget-view+json": {
       "model_id": "002e28d611f146ec918180547bdd98c4"
      }
     },
     "metadata": {},
     "output_type": "display_data"
    },
    {
     "data": {
      "text/html": [
       "\n",
       "        <script>\n",
       "            function code_toggle_17581173440745648141() {\n",
       "                $('div.cell.code_cell.rendered.selected').find('div.input').toggle();\n",
       "            }\n",
       "\n",
       "            \n",
       "        </script>\n",
       "\n",
       "        <a href=\"javascript:code_toggle_17581173440745648141()\">Toggle show/hide</a>\n",
       "    "
      ],
      "text/plain": [
       "<IPython.core.display.HTML object>"
      ]
     },
     "execution_count": 152,
     "metadata": {},
     "output_type": "execute_result"
    }
   ],
   "source": [
    "%config InlineBackend.figure_format = 'svg'\n",
    "params = {\n",
    "    'text.latex.preamble': ['\\\\usepackage{gensymb}'],\n",
    "    'image.origin': 'lower',\n",
    "    'image.interpolation': 'nearest',\n",
    "    'image.cmap': 'gray', #gray\n",
    "    'axes.grid': False,\n",
    "    'savefig.dpi': 300,  # to adjust notebook inline plot size\n",
    "    'axes.labelsize': 16, # fontsize for x and y labels (was 10); 40\n",
    "    'axes.titlesize': 20, #40\n",
    "    'font.size': 28, # was 10 #28\n",
    "    'legend.fontsize': 30, # was 10; 28\n",
    "    'xtick.labelsize': 14, #28\n",
    "    'ytick.labelsize': 14, #28\n",
    "    'text.usetex': True,\n",
    "    'figure.figsize': [6, 6], #4.49, 3.37\n",
    "    'figure.autolayout': True,\n",
    "    'font.family': 'monospace',\n",
    "}\n",
    "matplotlib.rcParams.update(params)\n",
    "Open_cluster = pl_open.result\n",
    "\n",
    "y_vals_open = all_data.iloc[stars_inOpen,:]['phot_rp_mean_mag']\n",
    "x_vals_open = all_data.iloc[stars_inOpen,:]['phot_bp_mean_mag'] - all_data.iloc[stars_inOpen,:]['phot_rp_mean_mag']\n",
    "\n",
    "\n",
    "def func_open(x_min, x_max, y_min, y_max, show_title):\n",
    "    fig, ax = plt.subplots()\n",
    "    ax.set_xlabel(r'G_{BP}-G_{RP}')\n",
    "    ax.set_ylabel(r'G_{RP}')\n",
    "    ax.grid(which= 'major', linestyle='-', linewidth='0.5', color = 'black', alpha = 0.3)\n",
    "    ax.grid(which='minor', linestyle=':', linewidth='0.3', color = 'black', alpha = 0.2)\n",
    "    if show_title:\n",
    "        ax.set_title(Open_cluster.name)\n",
    "    ax.set_xlim([x_min, x_max])\n",
    "    ax.set_ylim([y_max, y_min])\n",
    "    \n",
    "    ax.scatter(x_vals_open, y_vals_open, marker = 'x', c='k')\n",
    "    plt.show()\n",
    "    \n",
    "plot_open = interact_manual(func_open, x_max=1.2*np.max(x_vals_open), x_min=(np.min(x_vals_open)-5*abs(np.min(x_vals_open)))/5, y_max = 1.2*np.max(y_vals_open), y_min =(np.min(y_vals_open)-6*abs(np.min(y_vals_open)))/5, show_title= True)\n",
    "#display(plot_open)\n",
    "\n",
    "hide_toggle.hide_toggle()"
   ]
  },
  {
   "cell_type": "markdown",
   "metadata": {},
   "source": [
    " <h3>Globular Cluster Plot</h3>"
   ]
  },
  {
   "cell_type": "code",
   "execution_count": 151,
   "metadata": {},
   "outputs": [
    {
     "data": {
      "application/vnd.jupyter.widget-view+json": {
       "model_id": "ea75f2326a12471b9e676277542ebef2"
      }
     },
     "metadata": {},
     "output_type": "display_data"
    },
    {
     "data": {
      "text/html": [
       "\n",
       "        <script>\n",
       "            function code_toggle_1091821600264876181() {\n",
       "                $('div.cell.code_cell.rendered.selected').find('div.input').toggle();\n",
       "            }\n",
       "\n",
       "            \n",
       "        </script>\n",
       "\n",
       "        <a href=\"javascript:code_toggle_1091821600264876181()\">Toggle show/hide</a>\n",
       "    "
      ],
      "text/plain": [
       "<IPython.core.display.HTML object>"
      ]
     },
     "execution_count": 151,
     "metadata": {},
     "output_type": "execute_result"
    }
   ],
   "source": [
    "y_vals_glob = all_data.iloc[stars_inGlobular,:]['phot_rp_mean_mag']\n",
    "x_vals_glob = all_data.iloc[stars_inGlobular,:]['phot_bp_mean_mag'] - all_data.iloc[stars_inGlobular,:]['phot_rp_mean_mag']\n",
    "\n",
    "\n",
    "def func_glob(x_min, x_max, y_min, y_max, show_title):\n",
    "    fig, ax = plt.subplots()\n",
    "    ax.set_xlabel(r'G_{BP}-G_{RP}')\n",
    "    ax.set_ylabel(r'G_{RP}')\n",
    "    ax.grid(which= 'major', linestyle='-', linewidth='0.5', color = 'black', alpha = 0.3)\n",
    "    ax.grid(which='minor', linestyle=':', linewidth='0.3', color = 'black', alpha = 0.2)\n",
    "    if show_title:\n",
    "        ax.set_title(Globular_cluster.name)\n",
    "    ax.set_xlim([x_min, x_max])\n",
    "    ax.set_ylim([y_max, y_min])\n",
    "    \n",
    "    ax.scatter(x_vals_glob, y_vals_glob, marker = 'x', c='k')\n",
    "    plt.show()\n",
    "    \n",
    "plot_glob = interact_manual(func_glob, x_max=1.2*np.max(x_vals_glob), x_min=(np.min(x_vals_glob)-6*abs(np.min(x_vals_glob)))/5, y_max = 1.2*np.max(y_vals_glob), y_min =(np.min(y_vals_glob)-6*abs(np.min(y_vals_glob)))/5, show_title = True)\n",
    "#display(plot_glob)\n",
    "\n",
    "hide_toggle.hide_toggle()"
   ]
  },
  {
   "cell_type": "code",
   "execution_count": null,
   "metadata": {
    "collapsed": true
   },
   "outputs": [],
   "source": []
  }
 ],
 "metadata": {
  "kernelspec": {
   "display_name": "Python 2",
   "language": "python",
   "name": "python2"
  },
  "language_info": {
   "codemirror_mode": {
    "name": "ipython",
    "version": 2
   },
   "file_extension": ".py",
   "mimetype": "text/x-python",
   "name": "python",
   "nbconvert_exporter": "python",
   "pygments_lexer": "ipython2",
   "version": "2.7.13"
  }
 },
 "nbformat": 4,
 "nbformat_minor": 2
}
